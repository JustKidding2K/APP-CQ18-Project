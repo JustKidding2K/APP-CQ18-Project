{
  "cells": [
    {
      "cell_type": "markdown",
      "metadata": {
        "id": "view-in-github",
        "colab_type": "text"
      },
      "source": [
        "<a href=\"https://colab.research.google.com/github/JustKidding2K/APP-CQ18-Project/blob/18120279/APP_CQ18_Project_Nh%C3%B3m_8.ipynb\" target=\"_parent\"><img src=\"https://colab.research.google.com/assets/colab-badge.svg\" alt=\"Open In Colab\"/></a>"
      ]
    },
    {
      "cell_type": "markdown",
      "metadata": {
        "id": "eExqcHlHxQCX"
      },
      "source": [
        "# Phân loại chữ số viết tay MNIST bằng Neural Network\n",
        "Đồ án Lập trình song song ứng dụng - CQ 2018 - Nhóm 8"
      ]
    },
    {
      "cell_type": "markdown",
      "metadata": {
        "id": "Ujg_NCqwys98"
      },
      "source": [
        "# 1. Giới thiệu bài toán\n",
        "- Với sự phát triển của học máy, đặc biệt là Neural Network, nhiều vấn đề của cuộc sống đã được tự động hóa\n",
        "- Các bài toán có thể kể đến phân loại, nhận dạng, dự đoán, ... \n",
        "<center>\n",
        "<img src='https://machinelearningmastery.com/wp-content/uploads/2019/02/Plot-of-a-Subset-of-Images-from-the-MNIST-Dataset-1024x768.png'>\n",
        "<figcaption>Nhận dạng chữ số viết tay </figcaption>\n",
        "</center>\n",
        "\n",
        "<center>\n",
        "<img src='https://cdn.baogiaothong.vn/upload/images/2022-1/article_img/2022-01-19/img-bgt-2021-vi-pham-toc-do-1-1642596526-width1280height720.jpg'>\n",
        "<figcaption>Nhận dạng biển số</figcaption>\n",
        "</center>\n",
        "\n",
        "<center>\n",
        "<img src='https://miro.medium.com/max/700/1*uo6VfVH87jRjMZWVdwq3Vw.png'>\n",
        "<figcaption>Phân loại giống hoa</figcaption>\n",
        "</center>\n",
        "\n",
        "\n",
        "- Phân loại chữ số viết tay là một bài toán cơ bản, đã được giải quyết hiệu quả bởi nhiều mô hình máy học và cũng đã đạt được độ chính xác rất cao > 99%. Trong đó, bộ dữ liệu MNIST là bộ dữ liệu hay được sử dụng nhất cho bài toán này.\n",
        "\n",
        "- Nhóm quyết định giải quyết bài toán phân loại chữ số viết tay MNIST bằng Neural Network, tăng tốc bằng kỹ thuật lập trình song song.\n",
        "\n",
        "\n",
        "\n"
      ]
    },
    {
      "cell_type": "markdown",
      "metadata": {
        "id": "n1ibXIn9y0nA"
      },
      "source": [
        "# 2. Giới thiệu và khám phá dữ liệu"
      ]
    },
    {
      "cell_type": "markdown",
      "metadata": {
        "id": "QF4Y5Enuy9-_"
      },
      "source": [
        "- Bộ dữ liệu MNIST(Modified National Institute of Standards and Technology) là một bộ dữ liệu lớn chứa các chữ số viết tay thường được dùng trong việc huấn luyện các hệ thống xử lí hình ảnh. Ngoài ra, bộ dữ liệu này cũng được sử dụng rộng rãi để huấn luyện và kiểm thử trong lĩnh vực học máy.\n",
        "-Trong bài toán này, chúng ta sử dụng 60,000 ảnh xám vuông nhỏ có kích thước 28x28 pixel gồm các chữ số đơn viết tay từ 0 đến 9. \n",
        "- Nhiệm vụ của chúng ta là đi phân loại một hình ảnh cho trước của một chữ số viết tay vào một trong 10 lớp biểu thị các số nguyên từ 0 đến 9. \n",
        "- Đây là một tập dữ liệu được sử dụng rộng rãi và đã được giải quyết rất hiệu quả. Các mô hình hoạt động hiệu quả nhất là Deep Learning CNN đạt độ chính xác phân loại trên 99%, với tỉ lệ lỗi từ 0.4% đến 0.2% trên tập test.\n",
        "\n",
        "<br>\n",
        "\n",
        "**Tổng kết**\n",
        "<br>\n",
        "\n",
        "- Input: 60,000 ảnh xám vuông nhỏ có kích thước 28x28 pixel gồm các chữ số đơn viết tay từ 0 đến 9. \n",
        "\n",
        "- Output: Tỉ lệ dự đoán ra chính xác số nào.\n"
      ]
    },
    {
      "cell_type": "markdown",
      "metadata": {
        "id": "wJOMCS3HzFkD"
      },
      "source": [
        "MINH HỌA BỘ DỮ LIỆU\n",
        "![picture](https://machinelearningmastery.com/wp-content/uploads/2019/02/Plot-of-a-Subset-of-Images-from-the-MNIST-Dataset-1024x768.png)\n"
      ]
    },
    {
      "cell_type": "markdown",
      "source": [
        "# 3. Mô hình"
      ],
      "metadata": {
        "id": "1U-cWKD01DSN"
      }
    },
    {
      "cell_type": "markdown",
      "source": [
        "### 3.1. Convolution Layer."
      ],
      "metadata": {
        "id": "r24TIkha13Zp"
      }
    },
    {
      "cell_type": "markdown",
      "source": [
        "- Với công nghệ ngày càng phát triển về mạng nơ-ron nhân tạo cũng như phát sinh về bài toán thiết thực là nhận diện nội dung trong ảnh hay phân lớp ảnh, thì để đáp ứng điều đó, mạng nơ-ron nhân tạo tích chập hay Convolutional Neural Network(CNN) ra đời và là sự cải tiến từ các mạng nơ-ron nhân tạo trước.\n",
        "- Tích chập ở đây là một phương pháp toán học dùng ma trận (có kích thước thường là 3x3 hoặc N X N) để trích xuất thông tin từ ảnh. \n",
        "\n",
        "Minh họa cho kiến trúc CNN\n",
        "<center>\n",
        "<img src='https://images.viblo.asia/31db48c4-5df9-409b-8632-85d39196595b.jpeg'>\n",
        "</center>\n",
        "Minh họa cho khả năng của tích chập.\n",
        "\n",
        "<center>\n",
        "<img  src='https://images.viblo.asia/full/470abaeb-08f4-4b0c-98a9-873bf5764f2a.png'>\n",
        "</center>\n",
        "\n",
        "- Đầu tiên, ta chia ảnh thành 3 lớp ma trận tương ứng từng kênh màu của ảnh\n",
        "\n",
        "<center>\n",
        "<img src ='https://miro.medium.com/max/1100/1*15yDvGKV47a0nkf5qLKOOQ.png'> \n",
        "</center>\n",
        "\n",
        "- Tiếp đến, ta phát sinh ma trận vuông 3x3(có thể tùy ý nhưng ma trận vuông rất dễ tính toán và tối ưu hơn) gọi là Kernel hoặc Filter. Dùng ma trận đó và ta 'trượt' trên các kênh màu của ảnh để tính toán các thông tin của kênh màu đấy. Bình thường kiến trúc CNN sẽ phát sinh khoảng xấp xỉ 10 loại Kernel khác nhau để phát sinh thông tin nhiều nhất có thể:\n",
        "\n",
        "<center>\n",
        "<img src ='https://miro.medium.com/max/1052/1*GcI7G-JLAQiEoCON7xFbhg.gif'>\n",
        "</center>\n",
        "\n",
        "- Tích chập tính toán bằng cách lấy vị trí điểm ảnh đang xét và các điểm ảnh xung quanh rồi nhân tương ứng các vị trí với nhau, cuối cùng là tổng lại cái giá trị thu được. Từ đó phát sinh là ma trận mới với kích thước của ảnh nhưng chiều dài và rộng giảm đi(với Kernel 3x3 thì giảm mất 2 đơn vị).\n",
        "\n",
        "- Để giải quyết vấn đề mất đi 2 đơn vị chiều dài và rộng của ảnh, ta sử dụng kĩ thuật được gọi là padding. Về cơ bản chính là thêm pixels bọc quanh ảnh để giảm mất mát thông tin nhiều nhất có thể. Kĩ thuật phổ biến nhất chính là zero-padding hay bọc lớp pixel mang giá trị không quanh bức ảnh.\n",
        "\n",
        "<center>\n",
        "<img src='https://miro.medium.com/max/790/1*nYf_cUIHFEWU1JXGwnz-Ig.gif'>\n",
        "</center>\n",
        "\n",
        "- Và tiếp đến là tổng hợp các thông tin từ các kênh màu còn lại cùng các kernel khác nhau.\n",
        "\n",
        "<center>\n",
        "<img src='https://miro.medium.com/max/1400/1*ciDgQEjViWLnCbmX-EeSrA.gif'>\n",
        "</center>\n",
        "\n",
        "- Cuối cùng là Hàm kích hoạt, loại hàm này sẽ kích hoạt giá trị quy trước từ hàm được sử dụng bằng cách truyền vào tham số đã tính toán từ việc tích chập. Hàm được sử dụng là hàm ReLU - hàm này sẽ trả về giá trị 0 nếu tham số đầu vào là giá trị âm, còn ngược lại là trả về đúng giá trị dương, lí do dùng hàm này là thực tế ta làm việc với ảnh mang giá trị dương hơn là giá trị âm.\n",
        "\n",
        "\n",
        "<img src='https://images.viblo.asia/full/04dbd88d-797b-458a-ba07-5a8422d603e5.png'>\n"
      ],
      "metadata": {
        "id": "7SpGl97p4v3W"
      }
    },
    {
      "cell_type": "markdown",
      "source": [
        "### 3.2. Pooling Layer"
      ],
      "metadata": {
        "id": "2SS9O2SL16rA"
      }
    },
    {
      "cell_type": "markdown",
      "source": [
        "- Nhiệm vụ của pooling layer là làm giảm kích thước ảnh tính toán từ tích chập. Việc sử dụng nó cho mục đích giảm kích thước ảnh tính từ tích chập thông qua đó giảm mức độ tính toán cho bước tiếp theo nhưng vẫn đảm bao mang nhiều thông tin nhất có thể , giả sử khi ta tính toán một bức ảnh ta sử dụng xấp xỉ khoảng 10 kernel, giả sử ta có ảnh 28x28 thì sẽ phát sinh số lượng pixel là 28x28x3 pixels, tiếp đó ta có thêm 10 kernel thì tổng phát sinh pixel là 28x28x3x10 = 23,520 - cho một bức ảnh.\n",
        "\n",
        "- Cách thức Pooling hoạt động là ta xét từng khu vực nhỏ trên ảnh, sau đó ta lấy giá trị quy ước tính toán để đại diện cho khu vực đó. Kĩ thuật thường được dùng là Max pooling, nghĩa là lấy giá trị lớn nhất tại khu vực đó hoặc là Avarage pooling, nghĩa là lấy giá trị trung bình tại khu vực đó.\n",
        "\n",
        "<img src='https://miro.medium.com/max/1192/1*KQIEqhxzICU7thjaQBfPBQ.png'>"
      ],
      "metadata": {
        "id": "7bxF7b4RyT7E"
      }
    },
    {
      "cell_type": "markdown",
      "source": [
        "### 3.3. Flattern Layer"
      ],
      "metadata": {
        "id": "Ir89SUm02D5T"
      }
    },
    {
      "cell_type": "markdown",
      "source": [
        "- Nhiệm vụ là biến đổi tất cả những ma trận thành vector nhằm mục đích là dùng vector đó các dữ liệu đầu vào cho mạng nơ ron nhân tạo để thực hiện quá trình tính toán cuối cùng của CNN.\n",
        "\n",
        "<img src='https://miro.medium.com/max/850/1*GLQjM9k0gZ14nYF0XmkRWQ.png'>\n",
        "\n",
        "\n"
      ],
      "metadata": {
        "id": "RGAEY_Ag4JIi"
      }
    },
    {
      "cell_type": "markdown",
      "source": [
        "### 3.4. Fully connected layer"
      ],
      "metadata": {
        "id": "TuZlZayAZANU"
      }
    },
    {
      "cell_type": "markdown",
      "source": [
        "- Tiếp đến là mạng nơ-ron gọi là Fully Connected Layer, về cơ bản là mỗi node đều được kết nối đến tất cả các node trước.\n",
        "\n",
        "\n",
        "<img src='https://developers.google.com/machine-learning/crash-course/images/SoftmaxLayer.svg' >\n",
        "\n",
        "- Tại đây trước khi đưa ra dự đoán cuối cùng thì ta sử dụng hàm Softmax để tính toán tỉ lệ dự đoán sẽ thuộc về phân lớp nào và ta sẽ quyết định phân lớp dựa trên thông tin tính được.\n",
        "\n",
        "- Softmax về cơ bản là một hàm chuẩn hóa các giá trị đầu vào thành thành giá trị dao động từ (0, 1]. Softmax được xem là một dạng của cách thức chuẩn hóa giá trị.\n",
        "<img src='https://vitalflux.com/wp-content/uploads/2020/10/Softmax-Function.png'>\n",
        "\n",
        "\n",
        "\n",
        "- Tại sao softmax được dùng thay vì chuẩn hóa bình thường là vì tính nhạy cảm với dữ liệu đầu vào của nó. Ta xem code mô phỏng bên dưới. Tính nhạy cảm này khiến softmax vượt trội hơn nếu ảnh đầu vào được điều chỉnh hợp lí làm tăng mức dự đoán tốt hơn."
      ],
      "metadata": {
        "id": "Yt55c_iQY6G3"
      }
    },
    {
      "cell_type": "code",
      "source": [
        "import numpy as np\n",
        "\n",
        "def softmax(x):\n",
        "    \"\"\"Compute softmax values for each sets of scores in x.\"\"\"\n",
        "    e_x = np.exp(x - np.max(x))\n",
        "    return e_x / e_x.sum()"
      ],
      "metadata": {
        "id": "2S2ho5yWBllJ"
      },
      "execution_count": 1,
      "outputs": []
    },
    {
      "cell_type": "code",
      "source": [
        "softmax([1,2]) # so với chuẩn hóa thông thường là [0.3333, 0.6666]"
      ],
      "metadata": {
        "colab": {
          "base_uri": "https://localhost:8080/"
        },
        "id": "xDR9Ru7UCAx2",
        "outputId": "72607e6a-cc1d-4d1a-d470-a4222ea640ea"
      },
      "execution_count": 2,
      "outputs": [
        {
          "output_type": "execute_result",
          "data": {
            "text/plain": [
              "array([0.26894142, 0.73105858])"
            ]
          },
          "metadata": {},
          "execution_count": 2
        }
      ]
    },
    {
      "cell_type": "code",
      "source": [
        "softmax([10,20]) # điều chỉnh đầu vào lên 10 lần thì chuẩn hóa thông thường vẫn là [0.3333, 0.6666]"
      ],
      "metadata": {
        "colab": {
          "base_uri": "https://localhost:8080/"
        },
        "id": "1Ff68cNQCA-_",
        "outputId": "0217d7e8-cc95-41dd-fa80-b2d012b3d692"
      },
      "execution_count": 3,
      "outputs": [
        {
          "output_type": "execute_result",
          "data": {
            "text/plain": [
              "array([4.53978687e-05, 9.99954602e-01])"
            ]
          },
          "metadata": {},
          "execution_count": 3
        }
      ]
    },
    {
      "cell_type": "markdown",
      "source": [
        "# Phân tích chi tiết cho Fully connected Layer."
      ],
      "metadata": {
        "id": "SXiup6CZQGWI"
      }
    },
    {
      "cell_type": "markdown",
      "source": [
        "## Layer by layer\n",
        "- Ta thiết kế luồng hoạt động như sau:\n",
        "\n",
        "\n",
        "1.   Đầu tiên cho dữ liệu đầu vào NN.\n",
        "2.   Dữ liệu tiếp tục đi qua các layer khác nhau cho tới layer output.\n",
        "3.   Khi đã có output, ta có thể tính độ lỗi dùng làm độ đo.\n",
        "4.   Cuối cùng là điều chỉnh các tham số(weight - trọng số hoặc bias) bằng cách đạo hàm qua từng lớp tham số.\n",
        "5.   Lặp lại quá trình trên"
      ],
      "metadata": {
        "id": "JalSepmWQLY9"
      }
    },
    {
      "cell_type": "markdown",
      "source": [
        "## Mỗi layer gồm có:\n",
        "\n",
        "- Mỗi layer bất kì đều có điểm chung là input data và output data.\n",
        "<img src='https://miro.medium.com/max/1252/0*3cUc4jsQlHsoovn9.png'>"
      ],
      "metadata": {
        "id": "OqBbQnINQVvM"
      }
    },
    {
      "cell_type": "markdown",
      "source": [
        "### Forward propagation - Lan truyền tiến.\n",
        "\n",
        "- Nghĩa là output của layer trước sẽ là input của lớp sau đó.\n",
        "<img src='https://miro.medium.com/max/1352/1*ddDKxWSAYci2dHaG3O_DOg.png'>\n",
        "\n",
        "- Khi đó, tại layer cuối ta sẽ cho ra output, ta gọi là $\\hat{Y}$, có giá trị sẽ lệch so với giá trị $Y$ thật. Lúc này ta sẽ tính toán độ lỗi $E$ thông qua hai giá trị trước đó, và mục đích tính toán độ lỗi nhằm để điều chỉnh các tham số nhằm giảm thiểu độ lỗi nhỏ nhất có thể. Và các điều chỉnh đó gọi là Backward propagation - Lan truyền ngược. "
      ],
      "metadata": {
        "id": "t_G_KY0aQXUI"
      }
    },
    {
      "cell_type": "markdown",
      "source": [
        "### Gradient Descent.\n",
        "\n",
        "- Liên quan tới việc sử dụng đạo hàm, cụ thể hơn là ta sẽ điều chỉnh tham số $w$ trong NN nhằm mục đích giảm thiểu độ lỗi $E$ và đạo hàm là một trong những phương pháp hay để giải quyết.\n",
        "\n",
        "<img src='https://miro.medium.com/max/620/0*MZYPbIwBn5SOEpG7.png'   align=\"center\">\n",
        "\n",
        "- $\\alpha$ là gọi là learning rate với miền giá trị trong khoảng $[0,1]$"
      ],
      "metadata": {
        "id": "zetzvdSWQcW8"
      }
    },
    {
      "cell_type": "markdown",
      "source": [
        "- Giả sử ta đã có output $Y$, ta sẽ thực hiện đạo hàm trên độ lỗi $E$ với output $Y$ và thực hiện ngược lại cho tới lớp input $X$.\n",
        "<img src='https://miro.medium.com/max/1400/0*bL0jVGoQiH_TsrvT.png'>\n",
        "\n",
        "- Lưu ý rằng $E$ là một con số còn $X$ và $Y$ là ma trận.\n",
        "\n",
        "<img src='https://miro.medium.com/max/1052/0*KYFYEbu_o9j1_a5w.png'>\n",
        "\n",
        "\n",
        "- Và để tính được $\\frac{\\partial{E}}{\\partial{w}}$ thì áp dụng công thức toán học chain rule trong đạo hàm để tính toán:\n",
        "\n",
        "<img src='https://miro.medium.com/max/650/0*3xceKA-7b2oNbE4T.png'>"
      ],
      "metadata": {
        "id": "Qbj4kicUQdBI"
      }
    },
    {
      "cell_type": "markdown",
      "source": [
        "- Tiếp đến ta tính $\\frac{\\partial{E}}{\\partial{X}}$, lý do cần tính là vì output của layer này sẽ là input của layer khác nên ta cũng phải tính toán để có thể lan truyền đi tốt hơn.\n",
        "- Cũng sử dụng chain rule để ta có thể tính toán dễ dàng: \n",
        "\n",
        "\n",
        "<img src='https://miro.medium.com/max/658/0*Of8qDiWo31MK-MU0.png'>"
      ],
      "metadata": {
        "id": "0o8d-ooOQfpj"
      }
    },
    {
      "cell_type": "markdown",
      "source": [
        "- Sơ đồ mô phong cách thức hoạt động của lan truyền ngược:\n",
        "1. Ban đầu ta có: \n",
        "\n",
        "<img src='https://miro.medium.com/max/1352/1*ddDKxWSAYci2dHaG3O_DOg.png'>\n",
        "\n",
        "\n",
        "2. Sau đó thực hiện lan truyền ngược:\n",
        "\n",
        "\n",
        "<img src='https://miro.medium.com/max/1400/1*0QPRST83oBicKPE_R4biJA.png'>"
      ],
      "metadata": {
        "id": "pK7yr9OaQkuO"
      }
    },
    {
      "cell_type": "markdown",
      "source": [
        "# Thiết lập chi tiết cho fully connected layer."
      ],
      "metadata": {
        "id": "POdnTfJpQm60"
      }
    },
    {
      "cell_type": "markdown",
      "source": [
        "## Base class Layer:\n",
        "- Đây sẽ là Base layer mà các Layer sẽ kế thừa. Chứa các thuộc tính đơn giản là input từ layer khác và output truyền đi. Kèm với phương thức foward và backward propagation."
      ],
      "metadata": {
        "id": "hoaVH11NQ-ZF"
      }
    },
    {
      "cell_type": "code",
      "source": [
        "# Base class\n",
        "class Layer:\n",
        "    def __init__(self):\n",
        "        self.input = None\n",
        "        self.output = None\n",
        "\n",
        "    # computes the output Y of a layer for a given input X\n",
        "    def forward_propagation(self, input):\n",
        "        raise NotImplementedError\n",
        "\n",
        "    # computes dE/dX for a given dE/dY (and update parameters if any)\n",
        "    def backward_propagation(self, output_error, learning_rate):\n",
        "        raise NotImplementedError"
      ],
      "metadata": {
        "id": "YiSCDoY-RCB2"
      },
      "execution_count": 4,
      "outputs": []
    },
    {
      "cell_type": "markdown",
      "source": [
        "## Fully Connected Layer."
      ],
      "metadata": {
        "id": "KyG1mrNeRAUk"
      }
    },
    {
      "cell_type": "markdown",
      "source": [
        "- Đây là layer cơ bản nhất: Mỗi input nơ-ron sẽ nối hết tới tất cả output nơ-ron ở layer kế tiếp nó.\n",
        "\n",
        "<img src='https://miro.medium.com/max/876/1*jOObSF4HAB5VL5wO6petqA.png'>"
      ],
      "metadata": {
        "id": "5mtcIg-HRIYD"
      }
    },
    {
      "cell_type": "markdown",
      "source": [
        "### Forward propagation."
      ],
      "metadata": {
        "id": "nrLZt8a2RKLG"
      }
    },
    {
      "cell_type": "markdown",
      "source": [
        "- Việc lan tuyền tiến(Forward propagation) thực hiện như sau:\n",
        "\n",
        "<img src='https://miro.medium.com/max/674/0*Ec9fiXkNOoA5Z2v5.png'>\n",
        "\n",
        "- Với việc chúng ta sử dụng mà trận thì chúng ta có tích vô hướng (dot product) như sau:\n",
        "\n",
        "1. Ta có các ma trận:\n",
        "\n",
        "\n",
        "<img src='https://miro.medium.com/max/1400/0*qTBPwmzIjBOGKpXH.png'>\n",
        "\n",
        "\n",
        "2. Từ đó ta có được:\n",
        "\n",
        "\n",
        "<img src='https://miro.medium.com/max/506/0*FsJQ82GmKlV2X22z.png'>"
      ],
      "metadata": {
        "id": "UOt7pPp0RMNM"
      }
    },
    {
      "cell_type": "markdown",
      "source": [
        "### Backward propagation.\n"
      ],
      "metadata": {
        "id": "IRsq0eetRONu"
      }
    },
    {
      "cell_type": "markdown",
      "source": [
        "- Giả sử chúng ta đã có $Y$ và $E$, từ đó ta tính toán được $\\frac{\\partial{E}}{\\partial{Y}}$ hay đạo hàm độ lỗi với output. Tiếp đến ta cần tính toán 2 thứ:\n",
        "1. Đạo hàm độ lỗi $E$ với từng tham số: $\\frac{\\partial{E}}{\\partial{W}}$, $\\frac{\\partial{E}}{\\partial{B}}$\n",
        "\n",
        "2. Đạo hàm độ lỗi $E$ với input $X$: $\\frac{\\partial{E}}{\\partial{X}}$ "
      ],
      "metadata": {
        "id": "bRnnHAAZRSOA"
      }
    },
    {
      "cell_type": "markdown",
      "source": [
        "1. Đầu tiên là tính $\\frac{\\partial{E}}{\\partial{W}}$, ma trận này nên cùng kích thước với ma trận $W$ với kích thước $i \\times j$. $i$ là số lượng input nơ-ron và $j$ là số lượng output nơ-ron.\n",
        "\n",
        "<img src='https://miro.medium.com/max/802/0*PiVZ-czmfvBaAFSe.png'>"
      ],
      "metadata": {
        "id": "9lTMWgqZRT4t"
      }
    },
    {
      "cell_type": "markdown",
      "source": [
        "- Sử dụng chain rule, ta có:\n",
        "\n",
        "<img src='https://miro.medium.com/max/1242/0*cKYlxf87ZwkKtnrt.png'>"
      ],
      "metadata": {
        "id": "J8TCyolyRV70"
      }
    },
    {
      "cell_type": "markdown",
      "source": [
        "- Cuối cùng ta rút ra được: \n",
        "\n",
        "<img src='https://miro.medium.com/max/1042/0*sEeQVqIapym6O9VH.png'>"
      ],
      "metadata": {
        "id": "QL8VaZLjRX6V"
      }
    },
    {
      "cell_type": "markdown",
      "source": [
        "- Tiếp đến ta tính $\\frac{\\partial{E}}{\\partial{B}}$\n",
        "\n",
        "\n",
        "<img src='https://miro.medium.com/max/1032/0*sJVXt05jf2cgd_Ys.png'>"
      ],
      "metadata": {
        "id": "Sq85mmHyRZ0M"
      }
    },
    {
      "cell_type": "markdown",
      "source": [
        "- Ở đây ta tiếp tục sử dụng chain rule:\n",
        "\n",
        "<img src='https://miro.medium.com/max/1114/0*ud43sxuKpgPo9Rlo.png'>\n",
        "\n",
        "\n",
        "- Cuối cùng rút ra được là: \n",
        "\n",
        "<img src='https://miro.medium.com/max/1046/0*sovSd27ja1_7R2yU.png'>"
      ],
      "metadata": {
        "id": "3yKW2TXSRcZ-"
      }
    },
    {
      "cell_type": "markdown",
      "source": [
        "2. Tính toán cho $\\frac{\\partial{E}}{\\partial{X}}$\n",
        "\n",
        "<img src='https://miro.medium.com/max/1052/0*nPzn6Jgv-P0wxUA7.png'>"
      ],
      "metadata": {
        "id": "KcZzfX-tRets"
      }
    },
    {
      "cell_type": "markdown",
      "source": [
        "- Đầu tiên là chain rule:\n",
        "\n",
        "<img src='https://miro.medium.com/max/1118/0*x6uE01GkG3NKLNQp.png'>\n",
        "\n",
        "\n",
        "- Cuối cùng rút ra được là: \n",
        "\n",
        "\n",
        "\n",
        "<img src='https://miro.medium.com/max/1400/0*JWCzIdtJVTeQ_PG8.png'>"
      ],
      "metadata": {
        "id": "gOawIAd3Riw1"
      }
    },
    {
      "cell_type": "markdown",
      "source": [
        "### Tổng kết và coding layer."
      ],
      "metadata": {
        "id": "OF34e4KnRjdg"
      }
    },
    {
      "cell_type": "markdown",
      "source": [
        "- Ta có được các công thức để áp dụng như sau:\n",
        "\n",
        "<img src='https://miro.medium.com/max/492/0*HlI8qj8qZqGIWBrk.png'>"
      ],
      "metadata": {
        "id": "J_Yx0gjJRna9"
      }
    },
    {
      "cell_type": "markdown",
      "source": [
        "- Và giờ ta code fully connected layer như dưới"
      ],
      "metadata": {
        "id": "_S2ZJjsMRpDb"
      }
    },
    {
      "cell_type": "code",
      "source": [
        "import numpy as np\n",
        "\n",
        "# inherit from base class Layer\n",
        "class FCLayer(Layer):\n",
        "    # input_size = number of input neurons\n",
        "    # output_size = number of output neurons\n",
        "    def __init__(self, input_size, output_size):\n",
        "        self.weights = np.random.rand(input_size, output_size) - 0.5\n",
        "        self.bias = np.random.rand(1, output_size) - 0.5\n",
        "\n",
        "    # returns output for a given input\n",
        "    def forward_propagation(self, input_data):\n",
        "        self.input = input_data\n",
        "        self.output = np.dot(self.input, self.weights) + self.bias\n",
        "        return self.output\n",
        "\n",
        "    # computes dE/dW, dE/dB for a given output_error=dE/dY. Returns input_error=dE/dX.\n",
        "    def backward_propagation(self, output_error, learning_rate):\n",
        "        input_error = np.dot(output_error, self.weights.T)\n",
        "        weights_error = np.dot(self.input.T, output_error)\n",
        "        # dBias = output_error\n",
        "\n",
        "        # update parameters\n",
        "        self.weights -= learning_rate * weights_error\n",
        "        self.bias -= learning_rate * output_error\n",
        "        return input_error"
      ],
      "metadata": {
        "id": "hrKtxcEURs9-"
      },
      "execution_count": 5,
      "outputs": []
    },
    {
      "cell_type": "markdown",
      "source": [
        "## Activation Layer - Lớp kích hoạt.\n",
        "\n",
        "- Giả sử ta có hai hàm kích hoạt $f$ và $f'$ tương ứng cho việc forward và backward.\n",
        "\n",
        "<img src='https://miro.medium.com/max/770/1*xl7UacJfCUAk_KqX3WI49Q.png'>"
      ],
      "metadata": {
        "id": "0Is2TnKVRtax"
      }
    },
    {
      "cell_type": "markdown",
      "source": [
        "### Forward propagation.\n",
        "\n",
        "- Là hàm kích hoạt cho từng phần tử trong ma trận input.\n",
        "\n",
        "<img src='https://miro.medium.com/max/906/0*Aw9jCvpliMjaO00W.png'>"
      ],
      "metadata": {
        "id": "NZjHllwCRvaE"
      }
    },
    {
      "cell_type": "markdown",
      "source": [
        "### Backward propagation.\n",
        "\n",
        "- Giả sử đã có $\\frac{\\partial{E}}{\\partial{Y}}$, giờ thì ta tính $\\frac{\\partial{E}}{\\partial{X}}$ cho layer này.\n",
        "\n",
        "<img src='https://miro.medium.com/max/1400/0*9aXZPVNHXXpz1vd9.png'>\n",
        "\n",
        "\n",
        "- Lưu ý dòng cuối biểu tượng $\\odot$ ám chỉ phép toán [Hamada product](https://en.wikipedia.org/wiki/Hadamard_product_(matrices)) nghĩa là ma trận cùng kích thước nhân tương ứng các phần tử với nhau. (VD: ma trận $A$,$B$ thì nhân tương ứng là $a_{ij} \\times b_{ij}$)"
      ],
      "metadata": {
        "id": "zEp74dFyRxru"
      }
    },
    {
      "cell_type": "markdown",
      "source": [
        "### Coding layer"
      ],
      "metadata": {
        "id": "KLfxKj9aRzh5"
      }
    },
    {
      "cell_type": "code",
      "source": [
        "\n",
        "# inherit from base class Layer\n",
        "class ActivationLayer(Layer):\n",
        "    def __init__(self, activation, activation_prime):\n",
        "        self.activation = activation\n",
        "        self.activation_prime = activation_prime\n",
        "\n",
        "    # returns the activated input\n",
        "    def forward_propagation(self, input_data):\n",
        "        self.input = input_data\n",
        "        self.output = self.activation(self.input)\n",
        "        return self.output\n",
        "\n",
        "    # Returns input_error=dE/dX for a given output_error=dE/dY.\n",
        "    # learning_rate is not used because there is no \"learnable\" parameters.\n",
        "    def backward_propagation(self, output_error, learning_rate):\n",
        "        return self.activation_prime(self.input) * output_error"
      ],
      "metadata": {
        "id": "hRnBuFC4R42u"
      },
      "execution_count": 6,
      "outputs": []
    },
    {
      "cell_type": "code",
      "source": [
        "# activation function and its derivative\n",
        "def tanh(x):\n",
        "    return np.tanh(x);\n",
        "\n",
        "def tanh_prime(x):\n",
        "    return 1-np.tanh(x)**2;"
      ],
      "metadata": {
        "id": "oD13Y9R6R5Y0"
      },
      "execution_count": 7,
      "outputs": []
    },
    {
      "cell_type": "markdown",
      "source": [
        "## Loss function - Hàm mất mát."
      ],
      "metadata": {
        "id": "K2EpxujbR2YV"
      }
    },
    {
      "cell_type": "markdown",
      "source": [
        "### Tính toán layer cuối cùng nhất."
      ],
      "metadata": {
        "id": "kw7yR9SpR9Ow"
      }
    },
    {
      "cell_type": "markdown",
      "source": [
        "- Với các layer trước thì luôn có $\\frac{\\partial{E}}{\\partial{Y}}$ tính được từ layer sau. Nhưng với layer out cuối cùng nhất thì lấy ở đâu?\n",
        "\n",
        "- Đáp án chính là việc ta tính toán từ hàm mất mát. Một trong số đó là hàm MSE - Mean Square Error. \n",
        "\n",
        "<img src='https://miro.medium.com/max/726/0*CuLKvZnTvjT1d6KJ.png'>"
      ],
      "metadata": {
        "id": "ycIIMv4MR_Yz"
      }
    },
    {
      "cell_type": "markdown",
      "source": [
        "- Đạo hàm ta có:\n",
        "\n",
        "\n",
        "<img src='https://miro.medium.com/max/1176/0*2ggVYLPNH-vIJir6.png'>"
      ],
      "metadata": {
        "id": "9tljWmJ1SDs-"
      }
    },
    {
      "cell_type": "markdown",
      "source": [
        "### Coding"
      ],
      "metadata": {
        "id": "ER1ercuqSNwl"
      }
    },
    {
      "cell_type": "code",
      "source": [
        "# loss function and its derivative\n",
        "def mse(y_true, y_pred):\n",
        "    return np.mean(np.power(y_true-y_pred, 2));\n",
        "\n",
        "def mse_prime(y_true, y_pred):\n",
        "    return 2*(y_pred-y_true)/y_true.size;"
      ],
      "metadata": {
        "id": "lCl_IK0jSRSG"
      },
      "execution_count": 8,
      "outputs": []
    },
    {
      "cell_type": "markdown",
      "source": [
        "## Xây dựng Network."
      ],
      "metadata": {
        "id": "ZN9tW4DtSPnE"
      }
    },
    {
      "cell_type": "code",
      "source": [
        "class Network:\n",
        "    def __init__(self):\n",
        "        self.layers = []\n",
        "        self.loss = None\n",
        "        self.loss_prime = None\n",
        "\n",
        "    # add layer to network\n",
        "    def add(self, layer):\n",
        "        self.layers.append(layer)\n",
        "\n",
        "    # set loss to use\n",
        "    def use(self, loss, loss_prime):\n",
        "        self.loss = loss\n",
        "        self.loss_prime = loss_prime\n",
        "\n",
        "    # predict output for given input\n",
        "    def predict(self, input_data):\n",
        "        # sample dimension first\n",
        "        samples = len(input_data)\n",
        "        result = []\n",
        "\n",
        "        # run network over all samples\n",
        "        for i in range(samples):\n",
        "            # forward propagation\n",
        "            output = input_data[i]\n",
        "            for layer in self.layers:\n",
        "                output = layer.forward_propagation(output)\n",
        "            result.append(output)\n",
        "\n",
        "        return result\n",
        "\n",
        "    # train the network\n",
        "    def fit(self, x_train, y_train, epochs, learning_rate):\n",
        "        # sample dimension first\n",
        "        samples = len(x_train)\n",
        "\n",
        "        # training loop\n",
        "        for i in range(epochs):\n",
        "            err = 0\n",
        "            for j in range(samples):\n",
        "                # forward propagation\n",
        "                output = x_train[j]\n",
        "                for layer in self.layers:\n",
        "                    output = layer.forward_propagation(output)\n",
        "\n",
        "                # compute loss (for display purpose only)\n",
        "                err += self.loss(y_train[j], output)\n",
        "\n",
        "                # backward propagation\n",
        "                error = self.loss_prime(y_train[j], output)\n",
        "                for layer in reversed(self.layers):\n",
        "                    error = layer.backward_propagation(error, learning_rate)\n",
        "\n",
        "            # calculate average error on all samples\n",
        "            err /= samples\n",
        "            if (i % 100 == 0 or epochs < 101):\n",
        "              print('epoch %d/%d   error=%f' % (i, epochs, err))"
      ],
      "metadata": {
        "id": "kPvlor-wSWcd"
      },
      "execution_count": 9,
      "outputs": []
    },
    {
      "cell_type": "markdown",
      "source": [
        "# Thử nghiệm."
      ],
      "metadata": {
        "id": "E4IE3QLwSTj2"
      }
    },
    {
      "cell_type": "markdown",
      "source": [
        "## Giải bài toán XOR."
      ],
      "metadata": {
        "id": "ctM_i_j9SZat"
      }
    },
    {
      "cell_type": "code",
      "source": [
        "# training data\n",
        "x_train = np.array([[[0,1]], [[1,1]], [[1,0]], [[1,1]], [[0,0]]])\n",
        "y_train = np.array([[[0]], [[1]], [[0]], [[1]], [[0]]])\n",
        "\n",
        "# network\n",
        "net = Network()\n",
        "net.add(FCLayer(2, 3))\n",
        "net.add(ActivationLayer(tanh, tanh_prime))\n",
        "net.add(FCLayer(3, 1))\n",
        "net.add(ActivationLayer(tanh, tanh_prime))\n",
        "\n",
        "# train\n",
        "net.use(mse, mse_prime)\n",
        "net.fit(x_train, y_train, epochs=1000, learning_rate=0.1)\n",
        "\n",
        "# test\n",
        "out = net.predict(x_train)\n",
        "print(out)"
      ],
      "metadata": {
        "colab": {
          "base_uri": "https://localhost:8080/"
        },
        "id": "5VqPrB_bSbv-",
        "outputId": "6add4a0b-2882-473b-ca50-360e8a2813c7"
      },
      "execution_count": 10,
      "outputs": [
        {
          "output_type": "stream",
          "name": "stdout",
          "text": [
            "epoch 0/1000   error=0.353449\n",
            "epoch 100/1000   error=0.055754\n",
            "epoch 200/1000   error=0.008706\n",
            "epoch 300/1000   error=0.001054\n",
            "epoch 400/1000   error=0.000424\n",
            "epoch 500/1000   error=0.000254\n",
            "epoch 600/1000   error=0.000179\n",
            "epoch 700/1000   error=0.000137\n",
            "epoch 800/1000   error=0.000111\n",
            "epoch 900/1000   error=0.000093\n",
            "[array([[0.00074678]]), array([[0.98598536]]), array([[0.00108825]]), array([[0.98598536]]), array([[-0.00038647]])]\n"
          ]
        }
      ]
    },
    {
      "cell_type": "markdown",
      "source": [
        "## Giải bài toán MNIST."
      ],
      "metadata": {
        "id": "qL0J7UGCSbJG"
      }
    },
    {
      "cell_type": "code",
      "source": [
        "from keras.datasets import mnist\n",
        "from keras.utils import np_utils\n",
        "\n",
        "# load MNIST from server\n",
        "(x_train, y_train), (x_test, y_test) = mnist.load_data()\n",
        "\n",
        "# training data : 60000 samples\n",
        "# reshape and normalize input data\n",
        "x_train = x_train.reshape(x_train.shape[0], 1, 28*28)\n",
        "x_train = x_train.astype('float32')\n",
        "x_train /= 255\n",
        "# encode output which is a number in range [0,9] into a vector of size 10\n",
        "# e.g. number 3 will become [0, 0, 0, 1, 0, 0, 0, 0, 0, 0]\n",
        "y_train = np_utils.to_categorical(y_train)\n",
        "\n",
        "# same for test data : 10000 samples\n",
        "x_test = x_test.reshape(x_test.shape[0], 1, 28*28)\n",
        "x_test = x_test.astype('float32')\n",
        "x_test /= 255\n",
        "y_test = np_utils.to_categorical(y_test)\n",
        "\n",
        "# Network\n",
        "net = Network()\n",
        "net.add(FCLayer(28*28, 100))                # input_shape=(1, 28*28)    ;   output_shape=(1, 100)\n",
        "net.add(ActivationLayer(tanh, tanh_prime))\n",
        "net.add(FCLayer(100, 50))                   # input_shape=(1, 100)      ;   output_shape=(1, 50)\n",
        "net.add(ActivationLayer(tanh, tanh_prime))\n",
        "net.add(FCLayer(50, 10))                    # input_shape=(1, 50)       ;   output_shape=(1, 10)\n",
        "net.add(ActivationLayer(tanh, tanh_prime))\n",
        "\n",
        "# train on 1000 samples\n",
        "# as we didn't implemented mini-batch GD, training will be pretty slow if we update at each iteration on 60000 samples...\n",
        "net.use(mse, mse_prime)\n",
        "net.fit(x_train[0:1000], y_train[0:1000], epochs=35, learning_rate=0.1)\n",
        "\n",
        "# test on 3 samples\n",
        "out = net.predict(x_test[0:3])\n",
        "print(\"\\n\")\n",
        "print(\"predicted values : \")\n",
        "print(out, end=\"\\n\")\n",
        "print(\"true values : \")\n",
        "print(y_test[0:3])"
      ],
      "metadata": {
        "colab": {
          "base_uri": "https://localhost:8080/"
        },
        "id": "wIZiFQ4dSgtc",
        "outputId": "c02709c7-0b24-4188-c4c1-03779075811a"
      },
      "execution_count": 11,
      "outputs": [
        {
          "output_type": "stream",
          "name": "stdout",
          "text": [
            "epoch 0/35   error=0.236867\n",
            "epoch 1/35   error=0.101224\n",
            "epoch 2/35   error=0.076911\n",
            "epoch 3/35   error=0.064073\n",
            "epoch 4/35   error=0.054145\n",
            "epoch 5/35   error=0.045446\n",
            "epoch 6/35   error=0.038809\n",
            "epoch 7/35   error=0.033816\n",
            "epoch 8/35   error=0.029952\n",
            "epoch 9/35   error=0.026892\n",
            "epoch 10/35   error=0.024287\n",
            "epoch 11/35   error=0.022177\n",
            "epoch 12/35   error=0.020379\n",
            "epoch 13/35   error=0.018754\n",
            "epoch 14/35   error=0.017293\n",
            "epoch 15/35   error=0.015926\n",
            "epoch 16/35   error=0.014685\n",
            "epoch 17/35   error=0.013687\n",
            "epoch 18/35   error=0.012988\n",
            "epoch 19/35   error=0.012309\n",
            "epoch 20/35   error=0.011742\n",
            "epoch 21/35   error=0.011238\n",
            "epoch 22/35   error=0.010755\n",
            "epoch 23/35   error=0.010291\n",
            "epoch 24/35   error=0.009896\n",
            "epoch 25/35   error=0.009564\n",
            "epoch 26/35   error=0.009263\n",
            "epoch 27/35   error=0.008990\n",
            "epoch 28/35   error=0.008672\n",
            "epoch 29/35   error=0.008388\n",
            "epoch 30/35   error=0.008072\n",
            "epoch 31/35   error=0.007796\n",
            "epoch 32/35   error=0.007548\n",
            "epoch 33/35   error=0.007307\n",
            "epoch 34/35   error=0.007030\n",
            "\n",
            "\n",
            "predicted values : \n",
            "[array([[-1.41413385e-02,  4.15552175e-04, -1.66864721e-02,\n",
            "        -1.52309000e-02, -2.73926000e-02,  2.47449628e-02,\n",
            "         8.06060613e-03,  9.78759782e-01,  7.80481249e-03,\n",
            "        -6.70293124e-02]]), array([[ 0.00618678, -0.13292378,  0.34963327, -0.06066581, -0.02831972,\n",
            "         0.81126677,  0.95784649, -0.02903687, -0.68234734, -0.07294942]]), array([[-4.89798071e-03,  9.73834500e-01,  1.98779976e-02,\n",
            "        -2.86598976e-02,  4.81321141e-04,  1.13200708e-02,\n",
            "        -1.22441756e-02,  9.95081263e-04,  1.30360176e-01,\n",
            "         5.49262042e-03]])]\n",
            "true values : \n",
            "[[0. 0. 0. 0. 0. 0. 0. 1. 0. 0.]\n",
            " [0. 0. 1. 0. 0. 0. 0. 0. 0. 0.]\n",
            " [0. 1. 0. 0. 0. 0. 0. 0. 0. 0.]]\n"
          ]
        }
      ]
    },
    {
      "cell_type": "markdown",
      "metadata": {
        "id": "CYzucZ3-z7fo"
      },
      "source": [
        "# Code tham khảo cho CNN hoàn chỉnh."
      ]
    },
    {
      "cell_type": "code",
      "execution_count": 12,
      "metadata": {
        "colab": {
          "base_uri": "https://localhost:8080/",
          "height": 697
        },
        "id": "O4hVGuJRDJ66",
        "outputId": "34320f86-a33d-4af3-b999-679d22dfb43b"
      },
      "outputs": [
        {
          "output_type": "stream",
          "name": "stdout",
          "text": [
            "> 98.517\n",
            "> 98.658\n",
            "> 98.683\n",
            "> 98.750\n",
            "> 98.575\n"
          ]
        },
        {
          "output_type": "stream",
          "name": "stderr",
          "text": [
            "/usr/local/lib/python3.7/dist-packages/ipykernel_launcher.py:76: MatplotlibDeprecationWarning: Adding an axes using the same arguments as a previous axes currently reuses the earlier instance.  In a future version, a new instance will always be created and returned.  Meanwhile, this warning can be suppressed, and the future behavior ensured, by passing a unique label to each axes instance.\n",
            "/usr/local/lib/python3.7/dist-packages/ipykernel_launcher.py:81: MatplotlibDeprecationWarning: Adding an axes using the same arguments as a previous axes currently reuses the earlier instance.  In a future version, a new instance will always be created and returned.  Meanwhile, this warning can be suppressed, and the future behavior ensured, by passing a unique label to each axes instance.\n"
          ]
        },
        {
          "output_type": "display_data",
          "data": {
            "text/plain": [
              "<Figure size 432x288 with 2 Axes>"
            ],
            "image/png": "[encoded data removed]"
          },
          "metadata": {
            "needs_background": "light"
          }
        },
        {
          "output_type": "stream",
          "name": "stdout",
          "text": [
            "Accuracy: mean=98.637 std=0.082, n=5\n"
          ]
        },
        {
          "output_type": "display_data",
          "data": {
            "text/plain": [
              "<Figure size 432x288 with 1 Axes>"
            ],
            "image/png": "[encoded data removed]"
          },
          "metadata": {
            "needs_background": "light"
          }
        }
      ],
      "source": [
        "# baseline cnn model for mnist\n",
        "from numpy import mean\n",
        "from numpy import std\n",
        "from matplotlib import pyplot as plt\n",
        "from sklearn.model_selection import KFold\n",
        "from tensorflow.keras.datasets import mnist\n",
        "from tensorflow.keras.utils import to_categorical\n",
        "from tensorflow.keras.models import Sequential\n",
        "from tensorflow.keras.layers import Conv2D\n",
        "from tensorflow.keras.layers import MaxPooling2D\n",
        "from tensorflow.keras.layers import Dense\n",
        "from tensorflow.keras.layers import Flatten\n",
        "from tensorflow.keras.optimizers import SGD\n",
        "\n",
        "# load train and test dataset\n",
        "def load_dataset():\n",
        "\t# load dataset\n",
        "\t(trainX, trainY), (testX, testY) = mnist.load_data()\n",
        "\t# reshape dataset to have a single channel\n",
        "\ttrainX = trainX.reshape((trainX.shape[0], 28, 28, 1))\n",
        "\ttestX = testX.reshape((testX.shape[0], 28, 28, 1))\n",
        "\t# one hot encode target values\n",
        "\ttrainY = to_categorical(trainY)\n",
        "\ttestY = to_categorical(testY)\n",
        "\treturn trainX, trainY, testX, testY\n",
        "\n",
        "# scale pixels\n",
        "def prep_pixels(train, test):\n",
        "\t# convert from integers to floats\n",
        "\ttrain_norm = train.astype('float32')\n",
        "\ttest_norm = test.astype('float32')\n",
        "\t# normalize to range 0-1\n",
        "\ttrain_norm = train_norm / 255.0\n",
        "\ttest_norm = test_norm / 255.0\n",
        "\t# return normalized images\n",
        "\treturn train_norm, test_norm\n",
        "\n",
        "# define cnn model\n",
        "def define_model():\n",
        "\tmodel = Sequential()\n",
        "\tmodel.add(Conv2D(32, (3, 3), activation='relu', kernel_initializer='he_uniform', input_shape=(28, 28, 1)))\n",
        "\tmodel.add(MaxPooling2D((2, 2)))\n",
        "\tmodel.add(Flatten())\n",
        "\tmodel.add(Dense(100, activation='relu', kernel_initializer='he_uniform'))\n",
        "\tmodel.add(Dense(10, activation='softmax'))\n",
        "\t# compile model\n",
        "\topt = SGD(learning_rate=0.01, momentum=0.9)\n",
        "\tmodel.compile(optimizer=opt, loss='categorical_crossentropy', metrics=['accuracy'])\n",
        "\treturn model\n",
        "\n",
        "# evaluate a model using k-fold cross-validation\n",
        "def evaluate_model(dataX, dataY, n_folds=5):\n",
        "\tscores, histories = list(), list()\n",
        "\t# prepare cross validation\n",
        "\tkfold = KFold(n_folds, shuffle=True, random_state=1)\n",
        "\t# enumerate splits\n",
        "\tfor train_ix, test_ix in kfold.split(dataX):\n",
        "\t\t# define model\n",
        "\t\tmodel = define_model()\n",
        "\t\t# select rows for train and test\n",
        "\t\ttrainX, trainY, testX, testY = dataX[train_ix], dataY[train_ix], dataX[test_ix], dataY[test_ix]\n",
        "\t\t# fit model\n",
        "\t\thistory = model.fit(trainX, trainY, epochs=10, batch_size=32, validation_data=(testX, testY), verbose=0)\n",
        "\t\t# evaluate model\n",
        "\t\t_, acc = model.evaluate(testX, testY, verbose=0)\n",
        "\t\tprint('> %.3f' % (acc * 100.0))\n",
        "\t\t# stores scores\n",
        "\t\tscores.append(acc)\n",
        "\t\thistories.append(history)\n",
        "\treturn scores, histories\n",
        "\n",
        "# plot diagnostic learning curves\n",
        "def summarize_diagnostics(histories):\n",
        "\tfor i in range(len(histories)):\n",
        "\t\t# plot loss\n",
        "\t\tplt.subplot(2, 1, 1)\n",
        "\t\tplt.title('Cross Entropy Loss')\n",
        "\t\tplt.plot(histories[i].history['loss'], color='blue', label='train')\n",
        "\t\tplt.plot(histories[i].history['val_loss'], color='orange', label='test')\n",
        "\t\t# plot accuracy\n",
        "\t\tplt.subplot(2, 1, 2)\n",
        "\t\tplt.title('Classification Accuracy')\n",
        "\t\tplt.plot(histories[i].history['accuracy'], color='blue', label='train')\n",
        "\t\tplt.plot(histories[i].history['val_accuracy'], color='orange', label='test')\n",
        "\tplt.show()\n",
        "\n",
        "# summarize model performance\n",
        "def summarize_performance(scores):\n",
        "\t# print summary\n",
        "\tprint('Accuracy: mean=%.3f std=%.3f, n=%d' % (mean(scores)*100, std(scores)*100, len(scores)))\n",
        "\t# box and whisker plots of results\n",
        "\tplt.boxplot(scores)\n",
        "\tplt.show()\n",
        "\n",
        "# run the test harness for evaluating a model\n",
        "def run_test_harness():\n",
        "\t# load dataset\n",
        "\ttrainX, trainY, testX, testY = load_dataset()\n",
        "\t# prepare pixel data\n",
        "\ttrainX, testX = prep_pixels(trainX, testX)\n",
        "\t# evaluate model\n",
        "\tscores, histories = evaluate_model(trainX, trainY)\n",
        "\t# learning curves\n",
        "\tsummarize_diagnostics(histories)\n",
        "\t# summarize estimated performance\n",
        "\tsummarize_performance(scores)\n",
        "\n",
        "# entry point, run the test harness\n",
        "run_test_harness()"
      ]
    },
    {
      "cell_type": "markdown",
      "source": [
        "# Tham khảo"
      ],
      "metadata": {
        "id": "Nt_E8AwKw5_o"
      }
    },
    {
      "cell_type": "markdown",
      "source": [
        "https://pavisj.medium.com/convolutions-and-backpropagations-46026a8f5d2c"
      ],
      "metadata": {
        "id": "uK4bQNDevvYj"
      }
    }
  ],
  "metadata": {
    "accelerator": "GPU",
    "colab": {
      "name": "APP-CQ18-Project Nhóm 8.ipynb",
      "provenance": [],
      "collapsed_sections": [],
      "toc_visible": true,
      "include_colab_link": true
    },
    "kernelspec": {
      "display_name": "Python 3",
      "name": "python3"
    },
    "language_info": {
      "name": "python"
    }
  },
  "nbformat": 4,
  "nbformat_minor": 0
}